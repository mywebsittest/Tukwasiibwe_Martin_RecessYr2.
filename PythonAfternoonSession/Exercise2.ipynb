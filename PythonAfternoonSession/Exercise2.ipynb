{
 "cells": [
  {
   "cell_type": "code",
   "execution_count": 2,
   "id": "badf9f33-b9f8-433d-9530-4f970e25b251",
   "metadata": {},
   "outputs": [
    {
     "name": "stdout",
     "output_type": "stream",
     "text": [
      "   Equal  Greater  Lesser\n",
      "0  False    False    True\n",
      "1  False     True   False\n",
      "2  False     True   False\n",
      "3  False    False    True\n",
      "4   True    False   False\n"
     ]
    }
   ],
   "source": [
    "import pandas as pd\n",
    "\n",
    "# Sample Series\n",
    "first_series = pd.Series([4, 65, 436, 3, 9])\n",
    "second_series = pd.Series([7, 0, 3, 897, 9])\n",
    "\n",
    "# Compare elements\n",
    "comparison_results = {\n",
    "    'Equal': first_series == second_series,\n",
    "    'Greater': first_series > secont_series,\n",
    "    'Lesser': first_series < second_series\n",
    "}\n",
    "\n",
    "comparison_df = pd.DataFrame(comparison_results)\n",
    "print(comparison_df)\n"
   ]
  },
  {
   "cell_type": "code",
   "execution_count": 4,
   "id": "bb50a69c-3be3-4dcc-afb7-6724710805ba",
   "metadata": {},
   "outputs": [
    {
     "name": "stdout",
     "output_type": "stream",
     "text": [
      "   Addition  Subtraction  Multiplication  Division\n",
      "0         3            1               2  2.000000\n",
      "1         7            1              12  1.333333\n",
      "2        11            1              30  1.200000\n",
      "3        15            1              56  1.142857\n",
      "4        23            5             126  1.555556\n"
     ]
    }
   ],
   "source": [
    "import pandas as pd\n",
    "\n",
    "# Sample Series\n",
    "first_series = pd.Series([2, 4, 6, 8, 14])\n",
    "second_series = pd.Series([1, 3, 5, 7, 9])\n",
    "\n",
    "# Arithmetic operations\n",
    "add_series = first_series + second_series\n",
    "sub_series = first_series - second_series\n",
    "mul_series = first_series * second_series\n",
    "div_series = first_series / second_series\n",
    "\n",
    "# Display the results\n",
    "operations_df = pd.DataFrame({\n",
    "    'Addition': add_series,\n",
    "    'Subtraction': sub_series,\n",
    "    'Multiplication': mul_series,\n",
    "    'Division': div_series\n",
    "})\n",
    "\n",
    "print(operations_df)\n"
   ]
  },
  {
   "cell_type": "code",
   "execution_count": 6,
   "id": "414a4036-fc67-422a-9d95-276a6e2a53c6",
   "metadata": {},
   "outputs": [
    {
     "name": "stdout",
     "output_type": "stream",
     "text": [
      "Josh       24\n",
      "Sam        36\n",
      "Peace      19\n",
      "Charles    65\n",
      "Tom        44\n",
      "dtype: int64\n"
     ]
    }
   ],
   "source": [
    "import pandas as pd\n",
    "\n",
    "# Sample dictionary\n",
    "dictionary1 = {'Josh': 24, 'Sam': 36, 'Peace': 19, 'Charles': 65, 'Tom': 44}\n",
    "\n",
    "# Convert dictionary to Pandas series\n",
    "series_from_dict = pd.Series(dictionary1)\n",
    "\n",
    "print(series_from_dict)\n"
   ]
  },
  {
   "cell_type": "code",
   "execution_count": 8,
   "id": "1cff6211-9086-4ffc-b73a-7a558be7713a",
   "metadata": {},
   "outputs": [
    {
     "name": "stdout",
     "output_type": "stream",
     "text": [
      "['Love' 800 'Joy' 789.9 'Peace' True]\n"
     ]
    }
   ],
   "source": [
    "import pandas as pd\n",
    "\n",
    "# Sample series\n",
    "sample_series = pd.Series(['Love', 800, 'Joy', 789.9, 'Peace', True])\n",
    "\n",
    "# Convert series to array\n",
    "array_from_series = sample_series.to_numpy()\n",
    "\n",
    "print(array_from_series)\n"
   ]
  },
  {
   "cell_type": "code",
   "execution_count": 12,
   "id": "864d588a-560a-4f3e-bc15-3b25ab6abf7e",
   "metadata": {},
   "outputs": [
    {
     "name": "stdout",
     "output_type": "stream",
     "text": [
      "0        1.0\n",
      "1      Other\n",
      "2      Other\n",
      "3      Other\n",
      "4        1.0\n",
      "       ...  \n",
      "617    Other\n",
      "618      1.0\n",
      "619    Other\n",
      "620    Other\n",
      "621    Other\n",
      "Name: HomeTeamGoals, Length: 622, dtype: object\n"
     ]
    }
   ],
   "source": [
    "import pandas as pd\n",
    "\n",
    "# Assuming df is the DataFrame and it's already loaded\n",
    "df = pd.read_csv(\"AfricaCupofNationsMatches.csv\")\n",
    "# Replace 'df' with the actual DataFrame variable name\n",
    "home_team_goals = df['HomeTeamGoals']\n",
    "\n",
    "# Find the most frequent value\n",
    "most_frequent_value = home_team_goals.mode()[0]\n",
    "\n",
    "# Replace other values with 'Other'\n",
    "df['HomeTeamGoals'] = home_team_goals.apply(lambda x: x if x == most_frequent_value else 'Other')\n",
    "\n",
    "print(df['HomeTeamGoals'])\n"
   ]
  },
  {
   "cell_type": "code",
   "execution_count": 14,
   "id": "c04ab223-4636-48a4-8a5d-34aeba56f0c7",
   "metadata": {},
   "outputs": [
    {
     "name": "stdout",
     "output_type": "stream",
     "text": [
      "   Year      Date  Time    HomeTeam       AwayTeam HomeTeamGoals  \\\n",
      "0  1957  10-Feb-57   NaN     Sudan           Egypt           1.0   \n",
      "1  1957  10-Feb-57   NaN  Ethiopia    South Africa         Other   \n",
      "2  1957  16-Feb-57   NaN     Egypt        Ethiopia         Other   \n",
      "3  1959  22-May-59   NaN      Egypt       Ethiopia         Other   \n",
      "4  1959  25-May-59   NaN     Sudan        Ethiopia           1.0   \n",
      "\n",
      "   AwayTeamGoals             Stage  \\\n",
      "0            2.0        Semifinals   \n",
      "1            NaN        Semifinals   \n",
      "2            0.0             Final   \n",
      "3            0.0  Final Tournament   \n",
      "4            0.0  Final Tournament   \n",
      "\n",
      "                                SpecialWinConditions                Stadium  \\\n",
      "0                                                NaN      Municipal Stadium   \n",
      "1  Ethiopia  wins due to disqualification of othe...                    NaN   \n",
      "2                                                NaN      Municipal Stadium   \n",
      "3                                                NaN  Prince Farouk Stadium   \n",
      "4                                                NaN  Prince Farouk Stadium   \n",
      "\n",
      "        City  Attendance  \n",
      "0   Khartoum     30000.0  \n",
      "1        NaN         NaN  \n",
      "2   Khartoum     30000.0  \n",
      "3      Cairo     30000.0  \n",
      "4      Cairo     20000.0  \n"
     ]
    }
   ],
   "source": [
    "# Display the first few rows to ensure the data is loaded correctly\n",
    "print(df.head())"
   ]
  },
  {
   "cell_type": "code",
   "execution_count": 16,
   "id": "1511ea01-ed74-414e-ac45-0227e96ae3fa",
   "metadata": {},
   "outputs": [
    {
     "name": "stdout",
     "output_type": "stream",
     "text": [
      "   Year      Date  Time    HomeTeam       AwayTeam HomeTeamGoals  \\\n",
      "0  1957  10-Feb-57   NaN     Sudan           Egypt           1.0   \n",
      "1  1957  10-Feb-57   NaN  Ethiopia    South Africa         Other   \n",
      "2  1957  16-Feb-57   NaN     Egypt        Ethiopia         Other   \n",
      "3  1959  22-May-59   NaN      Egypt       Ethiopia         Other   \n",
      "4  1959  25-May-59   NaN     Sudan        Ethiopia           1.0   \n",
      "5  1959  29-May-59   NaN      Egypt          Sudan         Other   \n",
      "6  1962  14-Jan-62   NaN  Ethiopia         Tunisia         Other   \n",
      "\n",
      "   AwayTeamGoals             Stage  \\\n",
      "0            2.0        Semifinals   \n",
      "1            NaN        Semifinals   \n",
      "2            0.0             Final   \n",
      "3            0.0  Final Tournament   \n",
      "4            0.0  Final Tournament   \n",
      "5            1.0  Final Tournament   \n",
      "6            2.0        Semifinals   \n",
      "\n",
      "                                SpecialWinConditions                 Stadium  \\\n",
      "0                                                NaN       Municipal Stadium   \n",
      "1  Ethiopia  wins due to disqualification of othe...                     NaN   \n",
      "2                                                NaN       Municipal Stadium   \n",
      "3                                                NaN   Prince Farouk Stadium   \n",
      "4                                                NaN   Prince Farouk Stadium   \n",
      "5                                                NaN   Prince Farouk Stadium   \n",
      "6                                                NaN  Hailé Sélassié Stadium   \n",
      "\n",
      "           City  Attendance  \n",
      "0      Khartoum     30000.0  \n",
      "1           NaN         NaN  \n",
      "2      Khartoum     30000.0  \n",
      "3         Cairo     30000.0  \n",
      "4         Cairo     20000.0  \n",
      "5         Cairo     30000.0  \n",
      "6   Addis Ababa     30000.0  \n"
     ]
    }
   ],
   "source": [
    "# Get the first 7 rows\n",
    "first_seven_rows = df.head(7)\n",
    "\n",
    "print(first_seven_rows)"
   ]
  },
  {
   "cell_type": "code",
   "execution_count": 18,
   "id": "310ad9a9-b30e-4581-9ed2-84962cfdd128",
   "metadata": {},
   "outputs": [
    {
     "name": "stdout",
     "output_type": "stream",
     "text": [
      "    Year      Date  Time    HomeTeam   AwayTeam HomeTeamGoals  AwayTeamGoals  \\\n",
      "3   1959  22-May-59   NaN      Egypt   Ethiopia         Other            0.0   \n",
      "5   1959  29-May-59   NaN      Egypt      Sudan         Other            1.0   \n",
      "7   1962  18-Jan-62   NaN      Egypt     Uganda         Other            1.0   \n",
      "9   1962  21-Jan-62   NaN  Ethiopia       Egypt         Other            2.0   \n",
      "13  1963  24-Nov-63   NaN      Egypt    Nigeria         Other            3.0   \n",
      "14  1963  26-Nov-63   NaN      Egypt      Sudan         Other            2.0   \n",
      "16  1963  30-Nov-63   NaN      Egypt   Ethiopia         Other            0.0   \n",
      "\n",
      "                Stage    SpecialWinConditions                 Stadium  \\\n",
      "3    Final Tournament                     NaN   Prince Farouk Stadium   \n",
      "5    Final Tournament                     NaN   Prince Farouk Stadium   \n",
      "7          Semifinals                     NaN  Hailé Sélassié Stadium   \n",
      "9               Final   win after extra time   Hailé Sélassié Stadium   \n",
      "13            Group B                     NaN   Kumasi Sports Stadium   \n",
      "14            Group B                     NaN   Kumasi Sports Stadium   \n",
      "16  Third place match                     NaN    Accra Sports Stadium   \n",
      "\n",
      "            City  Attendance  \n",
      "3          Cairo     30000.0  \n",
      "5          Cairo     30000.0  \n",
      "7    Addis Ababa     30000.0  \n",
      "9    Addis Ababa         NaN  \n",
      "13        Kumasi         NaN  \n",
      "14        Kumasi         NaN  \n",
      "16         Accra         NaN  \n"
     ]
    }
   ],
   "source": [
    "# Select rows where Egypt appears in either HomeTeam or AwayTeam\n",
    "egypt_rows = df[(df['HomeTeam'] == 'Egypt') | (df['AwayTeam'] == 'Egypt')]\n",
    "\n",
    "print(egypt_rows)"
   ]
  },
  {
   "cell_type": "code",
   "execution_count": 20,
   "id": "d75b5be6-bcf2-4f30-ac6a-17a8e8c777cd",
   "metadata": {},
   "outputs": [
    {
     "name": "stdout",
     "output_type": "stream",
     "text": [
      "Number of rows: 622\n",
      "Number of columns: 12\n"
     ]
    }
   ],
   "source": [
    "# Count the number of rows and columns\n",
    "rows, columns = df.shape\n",
    "\n",
    "print(f'Number of rows: {rows}')\n",
    "print(f'Number of columns: {columns}')"
   ]
  },
  {
   "cell_type": "code",
   "execution_count": 22,
   "id": "476611f4-599c-4dea-813a-dfd924712ba5",
   "metadata": {},
   "outputs": [
    {
     "name": "stdout",
     "output_type": "stream",
     "text": [
      "     Year                         Date   Time        HomeTeam       AwayTeam  \\\n",
      "1    1957                     10-Feb-57    NaN      Ethiopia    South Africa   \n",
      "8    1962                     20-Jan-62    NaN       Tunisia          Uganda   \n",
      "9    1962                     21-Jan-62    NaN      Ethiopia           Egypt   \n",
      "10   1963                     24-Nov-63    NaN         Ghana         Tunisia   \n",
      "11   1963                     26-Nov-63    NaN         Ghana        Ethiopia   \n",
      "..    ...                           ...    ...            ...            ...   \n",
      "565  2017  29 January 2017 (2017-01-29)  20:00         Egypt         Morocco   \n",
      "566  2017  1 February 2017 (2017-02-01)  20:00  Burkina Faso           Egypt   \n",
      "567  2017  2 February 2017 (2017-02-02)  20:00      Cameroon           Ghana   \n",
      "568  2017  4 February 2017 (2017-02-04)  20:00  Burkina Faso           Ghana   \n",
      "569  2017  5 February 2017 (2017-02-05)  20:00         Egypt        Cameroon   \n",
      "\n",
      "    HomeTeamGoals  AwayTeamGoals                 Stage  \\\n",
      "1           Other            NaN            Semifinals   \n",
      "8           Other            0.0     Third place match   \n",
      "9           Other            2.0                 Final   \n",
      "10            1.0            1.0               Group A   \n",
      "11          Other            0.0               Group A   \n",
      "..            ...            ...                   ...   \n",
      "565           1.0            0.0        Quarter-finals   \n",
      "566           1.0            1.0           Semi-finals   \n",
      "567         Other            0.0           Semi-finals   \n",
      "568           1.0            0.0  Third place play-off   \n",
      "569           1.0            2.0                 Final   \n",
      "\n",
      "                                  SpecialWinConditions  \\\n",
      "1    Ethiopia  wins due to disqualification of othe...   \n",
      "8                                                  NaN   \n",
      "9                                win after extra time    \n",
      "10                                                 NaN   \n",
      "11                                                 NaN   \n",
      "..                                                 ...   \n",
      "565                                                NaN   \n",
      "566                        Egypt win on Penalities 3-4   \n",
      "567                                                NaN   \n",
      "568                                                NaN   \n",
      "569                                                NaN   \n",
      "\n",
      "                    Stadium          City  Attendance  \n",
      "1                       NaN           NaN         NaN  \n",
      "8    Hailé Sélassié Stadium   Addis Ababa         NaN  \n",
      "9    Hailé Sélassié Stadium   Addis Ababa         NaN  \n",
      "10     Accra Sports Stadium         Accra         NaN  \n",
      "11     Accra Sports Stadium         Accra         NaN  \n",
      "..                      ...           ...         ...  \n",
      "565    Stade de Port-Gentil   Port-Gentil         NaN  \n",
      "566       Stade de l'Amitié    Libreville         NaN  \n",
      "567    Stade de Franceville   Franceville         NaN  \n",
      "568    Stade de Port-Gentil   Port-Gentil         NaN  \n",
      "569       Stade de l'Amitié    Libreville         NaN  \n",
      "\n",
      "[100 rows x 12 columns]\n"
     ]
    }
   ],
   "source": [
    "# Select rows where 'Attendance' is missing\n",
    "missing_attendance_rows = df[df['Attendance'].isna()]\n",
    "\n",
    "print(missing_attendance_rows)\n"
   ]
  },
  {
   "cell_type": "code",
   "execution_count": 26,
   "id": "55f87d0b-033d-4885-8ff6-3287196c08e1",
   "metadata": {},
   "outputs": [
    {
     "ename": "TypeError",
     "evalue": "'>=' not supported between instances of 'str' and 'int'",
     "output_type": "error",
     "traceback": [
      "\u001b[0;31m---------------------------------------------------------------------------\u001b[0m",
      "\u001b[0;31mTypeError\u001b[0m                                 Traceback (most recent call last)",
      "Cell \u001b[0;32mIn[26], line 2\u001b[0m\n\u001b[1;32m      1\u001b[0m \u001b[38;5;66;03m# Select rows where 'HomeTeamGoals' are between 3 and 6 inclusive\u001b[39;00m\n\u001b[0;32m----> 2\u001b[0m home_team_goals_3_to_6 \u001b[38;5;241m=\u001b[39m df[\u001b[43mdf\u001b[49m\u001b[43m[\u001b[49m\u001b[38;5;124;43m'\u001b[39;49m\u001b[38;5;124;43mHomeTeamGoals\u001b[39;49m\u001b[38;5;124;43m'\u001b[39;49m\u001b[43m]\u001b[49m\u001b[38;5;241;43m.\u001b[39;49m\u001b[43mbetween\u001b[49m\u001b[43m(\u001b[49m\u001b[38;5;241;43m3\u001b[39;49m\u001b[43m,\u001b[49m\u001b[43m \u001b[49m\u001b[38;5;241;43m6\u001b[39;49m\u001b[43m)\u001b[49m]\n\u001b[1;32m      4\u001b[0m \u001b[38;5;28mprint\u001b[39m(home_team_goals_3_to_6)\n",
      "File \u001b[0;32m~/.local/lib/python3.11/site-packages/pandas/core/series.py:5638\u001b[0m, in \u001b[0;36mSeries.between\u001b[0;34m(self, left, right, inclusive)\u001b[0m\n\u001b[1;32m   5570\u001b[0m \u001b[38;5;250m\u001b[39m\u001b[38;5;124;03m\"\"\"\u001b[39;00m\n\u001b[1;32m   5571\u001b[0m \u001b[38;5;124;03mReturn boolean Series equivalent to left <= series <= right.\u001b[39;00m\n\u001b[1;32m   5572\u001b[0m \n\u001b[0;32m   (...)\u001b[0m\n\u001b[1;32m   5635\u001b[0m \u001b[38;5;124;03mdtype: bool\u001b[39;00m\n\u001b[1;32m   5636\u001b[0m \u001b[38;5;124;03m\"\"\"\u001b[39;00m\n\u001b[1;32m   5637\u001b[0m \u001b[38;5;28;01mif\u001b[39;00m inclusive \u001b[38;5;241m==\u001b[39m \u001b[38;5;124m\"\u001b[39m\u001b[38;5;124mboth\u001b[39m\u001b[38;5;124m\"\u001b[39m:\n\u001b[0;32m-> 5638\u001b[0m     lmask \u001b[38;5;241m=\u001b[39m \u001b[38;5;28;43mself\u001b[39;49m\u001b[43m \u001b[49m\u001b[38;5;241;43m>\u001b[39;49m\u001b[38;5;241;43m=\u001b[39;49m\u001b[43m \u001b[49m\u001b[43mleft\u001b[49m\n\u001b[1;32m   5639\u001b[0m     rmask \u001b[38;5;241m=\u001b[39m \u001b[38;5;28mself\u001b[39m \u001b[38;5;241m<\u001b[39m\u001b[38;5;241m=\u001b[39m right\n\u001b[1;32m   5640\u001b[0m \u001b[38;5;28;01melif\u001b[39;00m inclusive \u001b[38;5;241m==\u001b[39m \u001b[38;5;124m\"\u001b[39m\u001b[38;5;124mleft\u001b[39m\u001b[38;5;124m\"\u001b[39m:\n",
      "File \u001b[0;32m~/.local/lib/python3.11/site-packages/pandas/core/ops/common.py:76\u001b[0m, in \u001b[0;36m_unpack_zerodim_and_defer.<locals>.new_method\u001b[0;34m(self, other)\u001b[0m\n\u001b[1;32m     72\u001b[0m             \u001b[38;5;28;01mreturn\u001b[39;00m \u001b[38;5;28mNotImplemented\u001b[39m\n\u001b[1;32m     74\u001b[0m other \u001b[38;5;241m=\u001b[39m item_from_zerodim(other)\n\u001b[0;32m---> 76\u001b[0m \u001b[38;5;28;01mreturn\u001b[39;00m \u001b[43mmethod\u001b[49m\u001b[43m(\u001b[49m\u001b[38;5;28;43mself\u001b[39;49m\u001b[43m,\u001b[49m\u001b[43m \u001b[49m\u001b[43mother\u001b[49m\u001b[43m)\u001b[49m\n",
      "File \u001b[0;32m~/.local/lib/python3.11/site-packages/pandas/core/arraylike.py:60\u001b[0m, in \u001b[0;36mOpsMixin.__ge__\u001b[0;34m(self, other)\u001b[0m\n\u001b[1;32m     58\u001b[0m \u001b[38;5;129m@unpack_zerodim_and_defer\u001b[39m(\u001b[38;5;124m\"\u001b[39m\u001b[38;5;124m__ge__\u001b[39m\u001b[38;5;124m\"\u001b[39m)\n\u001b[1;32m     59\u001b[0m \u001b[38;5;28;01mdef\u001b[39;00m \u001b[38;5;21m__ge__\u001b[39m(\u001b[38;5;28mself\u001b[39m, other):\n\u001b[0;32m---> 60\u001b[0m     \u001b[38;5;28;01mreturn\u001b[39;00m \u001b[38;5;28;43mself\u001b[39;49m\u001b[38;5;241;43m.\u001b[39;49m\u001b[43m_cmp_method\u001b[49m\u001b[43m(\u001b[49m\u001b[43mother\u001b[49m\u001b[43m,\u001b[49m\u001b[43m \u001b[49m\u001b[43moperator\u001b[49m\u001b[38;5;241;43m.\u001b[39;49m\u001b[43mge\u001b[49m\u001b[43m)\u001b[49m\n",
      "File \u001b[0;32m~/.local/lib/python3.11/site-packages/pandas/core/series.py:6119\u001b[0m, in \u001b[0;36mSeries._cmp_method\u001b[0;34m(self, other, op)\u001b[0m\n\u001b[1;32m   6116\u001b[0m lvalues \u001b[38;5;241m=\u001b[39m \u001b[38;5;28mself\u001b[39m\u001b[38;5;241m.\u001b[39m_values\n\u001b[1;32m   6117\u001b[0m rvalues \u001b[38;5;241m=\u001b[39m extract_array(other, extract_numpy\u001b[38;5;241m=\u001b[39m\u001b[38;5;28;01mTrue\u001b[39;00m, extract_range\u001b[38;5;241m=\u001b[39m\u001b[38;5;28;01mTrue\u001b[39;00m)\n\u001b[0;32m-> 6119\u001b[0m res_values \u001b[38;5;241m=\u001b[39m \u001b[43mops\u001b[49m\u001b[38;5;241;43m.\u001b[39;49m\u001b[43mcomparison_op\u001b[49m\u001b[43m(\u001b[49m\u001b[43mlvalues\u001b[49m\u001b[43m,\u001b[49m\u001b[43m \u001b[49m\u001b[43mrvalues\u001b[49m\u001b[43m,\u001b[49m\u001b[43m \u001b[49m\u001b[43mop\u001b[49m\u001b[43m)\u001b[49m\n\u001b[1;32m   6121\u001b[0m \u001b[38;5;28;01mreturn\u001b[39;00m \u001b[38;5;28mself\u001b[39m\u001b[38;5;241m.\u001b[39m_construct_result(res_values, name\u001b[38;5;241m=\u001b[39mres_name)\n",
      "File \u001b[0;32m~/.local/lib/python3.11/site-packages/pandas/core/ops/array_ops.py:344\u001b[0m, in \u001b[0;36mcomparison_op\u001b[0;34m(left, right, op)\u001b[0m\n\u001b[1;32m    341\u001b[0m     \u001b[38;5;28;01mreturn\u001b[39;00m invalid_comparison(lvalues, rvalues, op)\n\u001b[1;32m    343\u001b[0m \u001b[38;5;28;01melif\u001b[39;00m lvalues\u001b[38;5;241m.\u001b[39mdtype \u001b[38;5;241m==\u001b[39m \u001b[38;5;28mobject\u001b[39m \u001b[38;5;129;01mor\u001b[39;00m \u001b[38;5;28misinstance\u001b[39m(rvalues, \u001b[38;5;28mstr\u001b[39m):\n\u001b[0;32m--> 344\u001b[0m     res_values \u001b[38;5;241m=\u001b[39m \u001b[43mcomp_method_OBJECT_ARRAY\u001b[49m\u001b[43m(\u001b[49m\u001b[43mop\u001b[49m\u001b[43m,\u001b[49m\u001b[43m \u001b[49m\u001b[43mlvalues\u001b[49m\u001b[43m,\u001b[49m\u001b[43m \u001b[49m\u001b[43mrvalues\u001b[49m\u001b[43m)\u001b[49m\n\u001b[1;32m    346\u001b[0m \u001b[38;5;28;01melse\u001b[39;00m:\n\u001b[1;32m    347\u001b[0m     res_values \u001b[38;5;241m=\u001b[39m _na_arithmetic_op(lvalues, rvalues, op, is_cmp\u001b[38;5;241m=\u001b[39m\u001b[38;5;28;01mTrue\u001b[39;00m)\n",
      "File \u001b[0;32m~/.local/lib/python3.11/site-packages/pandas/core/ops/array_ops.py:129\u001b[0m, in \u001b[0;36mcomp_method_OBJECT_ARRAY\u001b[0;34m(op, x, y)\u001b[0m\n\u001b[1;32m    127\u001b[0m     result \u001b[38;5;241m=\u001b[39m libops\u001b[38;5;241m.\u001b[39mvec_compare(x\u001b[38;5;241m.\u001b[39mravel(), y\u001b[38;5;241m.\u001b[39mravel(), op)\n\u001b[1;32m    128\u001b[0m \u001b[38;5;28;01melse\u001b[39;00m:\n\u001b[0;32m--> 129\u001b[0m     result \u001b[38;5;241m=\u001b[39m \u001b[43mlibops\u001b[49m\u001b[38;5;241;43m.\u001b[39;49m\u001b[43mscalar_compare\u001b[49m\u001b[43m(\u001b[49m\u001b[43mx\u001b[49m\u001b[38;5;241;43m.\u001b[39;49m\u001b[43mravel\u001b[49m\u001b[43m(\u001b[49m\u001b[43m)\u001b[49m\u001b[43m,\u001b[49m\u001b[43m \u001b[49m\u001b[43my\u001b[49m\u001b[43m,\u001b[49m\u001b[43m \u001b[49m\u001b[43mop\u001b[49m\u001b[43m)\u001b[49m\n\u001b[1;32m    130\u001b[0m \u001b[38;5;28;01mreturn\u001b[39;00m result\u001b[38;5;241m.\u001b[39mreshape(x\u001b[38;5;241m.\u001b[39mshape)\n",
      "File \u001b[0;32mops.pyx:107\u001b[0m, in \u001b[0;36mpandas._libs.ops.scalar_compare\u001b[0;34m()\u001b[0m\n",
      "\u001b[0;31mTypeError\u001b[0m: '>=' not supported between instances of 'str' and 'int'"
     ]
    }
   ],
   "source": [
    "# Select rows where 'HomeTeamGoals' are between 3 and 6 inclusive\n",
    "home_team_goals_3_to_6 = df[df['HomeTeamGoals'].between(3, 6)]\n",
    "\n",
    "print(home_team_goals_3_to_6)"
   ]
  },
  {
   "cell_type": "code",
   "execution_count": 28,
   "id": "c56e0423-3809-4f2f-8e88-020a73314c8a",
   "metadata": {},
   "outputs": [
    {
     "name": "stdout",
     "output_type": "stream",
     "text": [
      "Year                                 1957\n",
      "Date                            16-Feb-57\n",
      "Time                                  NaN\n",
      "HomeTeam                           Egypt \n",
      "AwayTeam                         Ethiopia\n",
      "HomeTeamGoals                       Other\n",
      "AwayTeamGoals                        10.0\n",
      "Stage                               Final\n",
      "SpecialWinConditions                  NaN\n",
      "Stadium                 Municipal Stadium\n",
      "City                             Khartoum\n",
      "Attendance                        30000.0\n",
      "Name: 2, dtype: object\n"
     ]
    }
   ],
   "source": [
    "# Change the 'AwayTeamGoals' in the 3rd row to 10\n",
    "df.at[2, 'AwayTeamGoals'] = 10\n",
    "\n",
    "print(df.iloc[2])"
   ]
  },
  {
   "cell_type": "code",
   "execution_count": 1,
   "id": "90a0556d-5216-4232-a792-b8fdcba1f0b4",
   "metadata": {},
   "outputs": [
    {
     "ename": "NameError",
     "evalue": "name 'df' is not defined",
     "output_type": "error",
     "traceback": [
      "\u001b[0;31m---------------------------------------------------------------------------\u001b[0m",
      "\u001b[0;31mNameError\u001b[0m                                 Traceback (most recent call last)",
      "Cell \u001b[0;32mIn[1], line 2\u001b[0m\n\u001b[1;32m      1\u001b[0m \u001b[38;5;66;03m# Sort the DataFrame first by 'HomeTeam' in ascending order, then by 'HomeTeamGoals' in descending order\u001b[39;00m\n\u001b[0;32m----> 2\u001b[0m sorted_df \u001b[38;5;241m=\u001b[39m df\u001b[38;5;241m.\u001b[39msort_values(by \u001b[38;5;241m=\u001b[39m[\u001b[38;5;124m'\u001b[39m\u001b[38;5;124mHomeTeam\u001b[39m\u001b[38;5;124m'\u001b[39m, \u001b[38;5;124m'\u001b[39m\u001b[38;5;124mHomeTeamGoals\u001b[39m\u001b[38;5;124m'\u001b[39m], ascending\u001b[38;5;241m=\u001b[39m[\u001b[38;5;28;01mTrue\u001b[39;00m, \u001b[38;5;28;01mFalse\u001b[39;00m])\n\u001b[1;32m      4\u001b[0m \u001b[38;5;28mprint\u001b[39m(sorted_df)\n",
      "\u001b[0;31mNameError\u001b[0m: name 'df' is not defined"
     ]
    }
   ],
   "source": [
    "# Sort the DataFrame first by 'HomeTeam' in ascending order, then by 'HomeTeamGoals' in descending order\n",
    "sorted_df = df.sort_values(by =['HomeTeam', 'HomeTeamGoals'], ascending=[True, False])\n",
    "\n",
    "print(sorted_df)"
   ]
  },
  {
   "cell_type": "code",
   "execution_count": 32,
   "id": "b66ce46e-0f3c-4874-8d3b-f9c0111ee7ec",
   "metadata": {},
   "outputs": [
    {
     "name": "stdout",
     "output_type": "stream",
     "text": [
      "['Year', 'Date ', 'Time ', 'HomeTeam', 'AwayTeam', 'HomeTeamGoals', 'AwayTeamGoals', 'Stage', 'SpecialWinConditions', 'Stadium', 'City', 'Attendance']\n"
     ]
    }
   ],
   "source": [
    "# Get list from DataFrame column headers\n",
    "column_headers = list(df.columns)\n",
    "\n",
    "print(column_headers)"
   ]
  },
  {
   "cell_type": "code",
   "execution_count": 34,
   "id": "452e0e89-4fed-40fd-b26b-b4a0bad7304e",
   "metadata": {},
   "outputs": [
    {
     "name": "stdout",
     "output_type": "stream",
     "text": [
      "   Year      Date  Time    HomeTeam       AwayTeam HomeTeamGoals  \\\n",
      "0  1957  10-Feb-57   NaN     Sudan           Egypt           1.0   \n",
      "1  1957  10-Feb-57   NaN  Ethiopia    South Africa         Other   \n",
      "2  1957  16-Feb-57   NaN     Egypt        Ethiopia         Other   \n",
      "3  1959  22-May-59   NaN      Egypt       Ethiopia         Other   \n",
      "4  1959  25-May-59   NaN     Sudan        Ethiopia           1.0   \n",
      "\n",
      "   AwayTeamGoals             Stage  \\\n",
      "0            2.0        Semifinals   \n",
      "1            NaN        Semifinals   \n",
      "2           10.0             Final   \n",
      "3            0.0  Final Tournament   \n",
      "4            0.0  Final Tournament   \n",
      "\n",
      "                                SpecialWinConditions                Stadium  \\\n",
      "0                                                NaN      Municipal Stadium   \n",
      "1  Ethiopia  wins due to disqualification of othe...                    NaN   \n",
      "2                                                NaN      Municipal Stadium   \n",
      "3                                                NaN  Prince Farouk Stadium   \n",
      "4                                                NaN  Prince Farouk Stadium   \n",
      "\n",
      "        City  Attendance Weather  \n",
      "0   Khartoum     30000.0   Sunny  \n",
      "1        NaN         NaN   Sunny  \n",
      "2   Khartoum     30000.0   Sunny  \n",
      "3      Cairo     30000.0   Sunny  \n",
      "4      Cairo     20000.0   Sunny  \n"
     ]
    }
   ],
   "source": [
    "# Append a new column 'Weather' with default values\n",
    "df['Weather'] = 'Sunny'\n",
    "\n",
    "print(df.head())"
   ]
  },
  {
   "cell_type": "code",
   "execution_count": 38,
   "id": "21ee7f39-d850-46c7-b5b9-0c8431b4723d",
   "metadata": {},
   "outputs": [
    {
     "ename": "AttributeError",
     "evalue": "'DataFrame' object has no attribute 'append'",
     "output_type": "error",
     "traceback": [
      "\u001b[0;31m---------------------------------------------------------------------------\u001b[0m",
      "\u001b[0;31mAttributeError\u001b[0m                            Traceback (most recent call last)",
      "\u001b[0;32m/tmp/ipykernel_121278/3146962818.py\u001b[0m in \u001b[0;36m?\u001b[0;34m()\u001b[0m\n\u001b[1;32m      8\u001b[0m     \u001b[0;34m'Weather'\u001b[0m\u001b[0;34m:\u001b[0m \u001b[0;34m[\u001b[0m\u001b[0;34m'Rainy'\u001b[0m\u001b[0;34m,\u001b[0m \u001b[0;34m'Cloudy'\u001b[0m\u001b[0;34m]\u001b[0m\u001b[0;34m\u001b[0m\u001b[0;34m\u001b[0m\u001b[0m\n\u001b[1;32m      9\u001b[0m })\n\u001b[1;32m     10\u001b[0m \u001b[0;34m\u001b[0m\u001b[0m\n\u001b[1;32m     11\u001b[0m \u001b[0;31m# Append new rows to the DataFrame\u001b[0m\u001b[0;34m\u001b[0m\u001b[0;34m\u001b[0m\u001b[0m\n\u001b[0;32m---> 12\u001b[0;31m \u001b[0mdf\u001b[0m \u001b[0;34m=\u001b[0m \u001b[0mdf\u001b[0m\u001b[0;34m.\u001b[0m\u001b[0mappend\u001b[0m\u001b[0;34m(\u001b[0m\u001b[0mnew_rows\u001b[0m\u001b[0;34m,\u001b[0m \u001b[0mignore_index\u001b[0m\u001b[0;34m=\u001b[0m\u001b[0;32mTrue\u001b[0m\u001b[0;34m)\u001b[0m\u001b[0;34m\u001b[0m\u001b[0;34m\u001b[0m\u001b[0m\n\u001b[0m\u001b[1;32m     13\u001b[0m \u001b[0;34m\u001b[0m\u001b[0m\n\u001b[1;32m     14\u001b[0m \u001b[0mprint\u001b[0m\u001b[0;34m(\u001b[0m\u001b[0mdf\u001b[0m\u001b[0;34m.\u001b[0m\u001b[0mtail\u001b[0m\u001b[0;34m(\u001b[0m\u001b[0;34m)\u001b[0m\u001b[0;34m)\u001b[0m\u001b[0;34m\u001b[0m\u001b[0;34m\u001b[0m\u001b[0m\n",
      "\u001b[0;32m~/.local/lib/python3.11/site-packages/pandas/core/generic.py\u001b[0m in \u001b[0;36m?\u001b[0;34m(self, name)\u001b[0m\n\u001b[1;32m   6295\u001b[0m             \u001b[0;32mand\u001b[0m \u001b[0mname\u001b[0m \u001b[0;32mnot\u001b[0m \u001b[0;32min\u001b[0m \u001b[0mself\u001b[0m\u001b[0;34m.\u001b[0m\u001b[0m_accessors\u001b[0m\u001b[0;34m\u001b[0m\u001b[0;34m\u001b[0m\u001b[0m\n\u001b[1;32m   6296\u001b[0m             \u001b[0;32mand\u001b[0m \u001b[0mself\u001b[0m\u001b[0;34m.\u001b[0m\u001b[0m_info_axis\u001b[0m\u001b[0;34m.\u001b[0m\u001b[0m_can_hold_identifiers_and_holds_name\u001b[0m\u001b[0;34m(\u001b[0m\u001b[0mname\u001b[0m\u001b[0;34m)\u001b[0m\u001b[0;34m\u001b[0m\u001b[0;34m\u001b[0m\u001b[0m\n\u001b[1;32m   6297\u001b[0m         ):\n\u001b[1;32m   6298\u001b[0m             \u001b[0;32mreturn\u001b[0m \u001b[0mself\u001b[0m\u001b[0;34m[\u001b[0m\u001b[0mname\u001b[0m\u001b[0;34m]\u001b[0m\u001b[0;34m\u001b[0m\u001b[0;34m\u001b[0m\u001b[0m\n\u001b[0;32m-> 6299\u001b[0;31m         \u001b[0;32mreturn\u001b[0m \u001b[0mobject\u001b[0m\u001b[0;34m.\u001b[0m\u001b[0m__getattribute__\u001b[0m\u001b[0;34m(\u001b[0m\u001b[0mself\u001b[0m\u001b[0;34m,\u001b[0m \u001b[0mname\u001b[0m\u001b[0;34m)\u001b[0m\u001b[0;34m\u001b[0m\u001b[0;34m\u001b[0m\u001b[0m\n\u001b[0m",
      "\u001b[0;31mAttributeError\u001b[0m: 'DataFrame' object has no attribute 'append'"
     ]
    }
   ],
   "source": [
    "# Create new rows as a DataFrame\n",
    "new_rows = pd.DataFrame({\n",
    "    'HomeTeam': ['TeamA', 'TeamB'],\n",
    "    'AwayTeam': ['TeamC', 'TeamD'],\n",
    "    'HomeTeamGoals': [1, 2],\n",
    "    'AwayTeamGoals': [2, 1],\n",
    "    'Attendance': [5000, 7000],\n",
    "    'Weather': ['Rainy', 'Cloudy']\n",
    "})\n",
    "\n",
    "# Append new rows to the DataFrame\n",
    "df = df.append(new_rows, ignore_index=True)\n",
    "\n",
    "print(df.tail())"
   ]
  },
  {
   "cell_type": "code",
   "execution_count": 40,
   "id": "67fc7c52-a95c-483e-b237-549e01c02dd6",
   "metadata": {},
   "outputs": [
    {
     "name": "stdout",
     "output_type": "stream",
     "text": [
      "Empty DataFrame\n",
      "Columns: [Year, Date , Time , HomeTeam, AwayTeam, HomeTeamGoals, AwayTeamGoals, Stage, SpecialWinConditions, Stadium, City, Attendance, Weather]\n",
      "Index: []\n"
     ]
    }
   ],
   "source": [
    "# Change 'Uganda' to 'China' in the 'AwayTeam' column\n",
    "df['AwayTeam'] = df['AwayTeam'].replace('Uganda', 'China')\n",
    "\n",
    "print(df[df['AwayTeam'] == 'China'])"
   ]
  },
  {
   "cell_type": "code",
   "execution_count": 42,
   "id": "9b9bb26c-6087-4cec-b996-6c65c69cf798",
   "metadata": {},
   "outputs": [
    {
     "name": "stdout",
     "output_type": "stream",
     "text": [
      "   Year      Date  Time    HomeTeam       AwayTeam HomeTeamGoals  \\\n",
      "0  1957  10-Feb-57   NaN     Sudan           Egypt           1.0   \n",
      "1  1957  10-Feb-57   NaN  Ethiopia    South Africa         Other   \n",
      "2  1957  16-Feb-57   NaN     Egypt        Ethiopia         Other   \n",
      "3  1959  22-May-59   NaN      Egypt       Ethiopia         Other   \n",
      "4  1959  25-May-59   NaN     Sudan        Ethiopia           1.0   \n",
      "\n",
      "   AwayTeamGoals             Stage  \\\n",
      "0            2.0        Semifinals   \n",
      "1            NaN        Semifinals   \n",
      "2           10.0             Final   \n",
      "3            0.0  Final Tournament   \n",
      "4            0.0  Final Tournament   \n",
      "\n",
      "                                SpecialWinConditions                Stadium  \\\n",
      "0                                                NaN      Municipal Stadium   \n",
      "1  Ethiopia  wins due to disqualification of othe...                    NaN   \n",
      "2                                                NaN      Municipal Stadium   \n",
      "3                                                NaN  Prince Farouk Stadium   \n",
      "4                                                NaN  Prince Farouk Stadium   \n",
      "\n",
      "        City  Attendance Weather  \n",
      "0   Khartoum     30000.0   Sunny  \n",
      "1        NaN         NaN   Sunny  \n",
      "2   Khartoum     30000.0   Sunny  \n",
      "3      Cairo     30000.0   Sunny  \n",
      "4      Cairo     20000.0   Sunny  \n"
     ]
    }
   ],
   "source": [
    "# Reset index in the DataFrame\n",
    "df = df.reset_index(drop=True)\n",
    "\n",
    "print(df.head())"
   ]
  },
  {
   "cell_type": "code",
   "execution_count": 44,
   "id": "0b9c56f4-87ae-4929-a6c7-32a681c49513",
   "metadata": {},
   "outputs": [
    {
     "name": "stdout",
     "output_type": "stream",
     "text": [
      "Is \"Stadium\" column present?: True\n"
     ]
    }
   ],
   "source": [
    "# Check if 'Stadium' column is present\n",
    "is_stadium_present = 'Stadium' in df.columns\n",
    "\n",
    "print(f'Is \"Stadium\" column present?: {is_stadium_present}')"
   ]
  },
  {
   "cell_type": "code",
   "execution_count": 46,
   "id": "c0fc0922-9d75-48d4-b4c0-9c70c4dac85c",
   "metadata": {},
   "outputs": [
    {
     "name": "stdout",
     "output_type": "stream",
     "text": [
      "Year                      int64\n",
      "Date                     object\n",
      "Time                     object\n",
      "HomeTeam                 object\n",
      "AwayTeam                 object\n",
      "HomeTeamGoals            object\n",
      "AwayTeamGoals           float64\n",
      "Stage                    object\n",
      "SpecialWinConditions     object\n",
      "Stadium                  object\n",
      "City                     object\n",
      "Attendance              float64\n",
      "Weather                  object\n",
      "dtype: object\n"
     ]
    }
   ],
   "source": [
    "# Convert the datatype of 'AwayTeamGoals' from int to float\n",
    "df['AwayTeamGoals'] = df['AwayTeamGoals'].astype(float)\n",
    "\n",
    "print(df.dtypes)"
   ]
  },
  {
   "cell_type": "code",
   "execution_count": 11,
   "id": "4b5215c5-da69-4c18-8932-d5b7cfa81dec",
   "metadata": {},
   "outputs": [
    {
     "ename": "NameError",
     "evalue": "name 'df' is not defined",
     "output_type": "error",
     "traceback": [
      "\u001b[0;31m---------------------------------------------------------------------------\u001b[0m",
      "\u001b[0;31mNameError\u001b[0m                                 Traceback (most recent call last)",
      "Cell \u001b[0;32mIn[11], line 2\u001b[0m\n\u001b[1;32m      1\u001b[0m \u001b[38;5;66;03m# Remove the last 10 rows\u001b[39;00m\n\u001b[0;32m----> 2\u001b[0m df \u001b[38;5;241m=\u001b[39m df[:\u001b[38;5;241m-\u001b[39m\u001b[38;5;241m10\u001b[39m]\n\u001b[1;32m      4\u001b[0m \u001b[38;5;28mprint\u001b[39m(df\u001b[38;5;241m.\u001b[39mtail())\n",
      "\u001b[0;31mNameError\u001b[0m: name 'df' is not defined"
     ]
    }
   ],
   "source": [
    "# Remove the last 10 rows\n",
    "df = df[:-10]\n",
    "\n",
    "print(df.tail())"
   ]
  },
  {
   "cell_type": "code",
   "execution_count": 7,
   "id": "f620d440-ba8e-4100-bcbb-f2d5ea33720d",
   "metadata": {},
   "outputs": [
    {
     "ename": "NameError",
     "evalue": "name 'df' is not defined",
     "output_type": "error",
     "traceback": [
      "\u001b[0;31m---------------------------------------------------------------------------\u001b[0m",
      "\u001b[0;31mNameError\u001b[0m                                 Traceback (most recent call last)",
      "Cell \u001b[0;32mIn[7], line 2\u001b[0m\n\u001b[1;32m      1\u001b[0m \u001b[38;5;66;03m# Iterate over rows in the DataFrame\u001b[39;00m\n\u001b[0;32m----> 2\u001b[0m \u001b[38;5;28;01mfor\u001b[39;00m index, row \u001b[38;5;129;01min\u001b[39;00m df\u001b[38;5;241m.\u001b[39miterrows():\n\u001b[1;32m      3\u001b[0m     \u001b[38;5;28mprint\u001b[39m(\u001b[38;5;124mf\u001b[39m\u001b[38;5;124m\"\u001b[39m\u001b[38;5;124mIndex: \u001b[39m\u001b[38;5;132;01m{\u001b[39;00mindex\u001b[38;5;132;01m}\u001b[39;00m\u001b[38;5;124m\"\u001b[39m)\n\u001b[1;32m      4\u001b[0m     \u001b[38;5;28mprint\u001b[39m(row)\n",
      "\u001b[0;31mNameError\u001b[0m: name 'df' is not defined"
     ]
    }
   ],
   "source": [
    "# Iterate over rows in the DataFrame\n",
    "for index, row in df.iterrows():\n",
    "    print(f\"Index: {index}\")\n",
    "    print(row)\n",
    "    print()  # Print a newline for better readability"
   ]
  },
  {
   "cell_type": "code",
   "execution_count": 52,
   "id": "e74803b5-effa-48d3-98c5-bae91d184ae0",
   "metadata": {},
   "outputs": [
    {
     "name": "stdout",
     "output_type": "stream",
     "text": [
      "  Weather   HomeTeam       AwayTeam HomeTeamGoals  AwayTeamGoals  Attendance\n",
      "0   Sunny     Sudan           Egypt           1.0            2.0     30000.0\n",
      "1   Sunny  Ethiopia    South Africa         Other            NaN         NaN\n",
      "2   Sunny     Egypt        Ethiopia         Other           10.0     30000.0\n",
      "3   Sunny      Egypt       Ethiopia         Other            0.0     30000.0\n",
      "4   Sunny     Sudan        Ethiopia           1.0            0.0     20000.0\n"
     ]
    }
   ],
   "source": [
    "# Change the order of columns, let's move 'Weather' to be the first column\n",
    "new_column_order = ['Weather', 'HomeTeam', 'AwayTeam', 'HomeTeamGoals', 'AwayTeamGoals', 'Attendance']\n",
    "df = df[new_column_order]\n",
    "\n",
    "print(df.head())"
   ]
  },
  {
   "cell_type": "code",
   "execution_count": 54,
   "id": "4f3a287e-9f68-4f23-8b24-0c8c354c32c6",
   "metadata": {},
   "outputs": [
    {
     "name": "stdout",
     "output_type": "stream",
     "text": [
      "  Weather   HomeTeam       AwayTeam HomeTeamGoals  AwayTeamGoals  Attendance\n",
      "0   Sunny     Sudan           Egypt           1.0            2.0     30000.0\n",
      "1   Sunny  Ethiopia    South Africa         Other            NaN         NaN\n",
      "2   Sunny     Egypt        Ethiopia         Other           10.0     30000.0\n",
      "3   Sunny      Egypt       Ethiopia         Other            0.0     30000.0\n",
      "4   Sunny     Sudan        Ethiopia           1.0            0.0     20000.0\n"
     ]
    }
   ],
   "source": [
    "# Delete rows where 'HomeTeamGoals' is 0\n",
    "df = df[df['HomeTeamGoals'] != 0]\n",
    "\n",
    "print(df.head())"
   ]
  },
  {
   "cell_type": "code",
   "execution_count": null,
   "id": "3cf62942-e284-4153-be66-086f416800d9",
   "metadata": {},
   "outputs": [],
   "source": []
  }
 ],
 "metadata": {
  "kernelspec": {
   "display_name": "Python 3 (ipykernel)",
   "language": "python",
   "name": "python3"
  },
  "language_info": {
   "codemirror_mode": {
    "name": "ipython",
    "version": 3
   },
   "file_extension": ".py",
   "mimetype": "text/x-python",
   "name": "python",
   "nbconvert_exporter": "python",
   "pygments_lexer": "ipython3",
   "version": "3.11.7"
  }
 },
 "nbformat": 4,
 "nbformat_minor": 5
}
